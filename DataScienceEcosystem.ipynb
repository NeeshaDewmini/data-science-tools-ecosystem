{
 "cells": [
  {
   "cell_type": "markdown",
   "id": "01f6b742-f853-4a3d-ad1f-ac57e5fae350",
   "metadata": {},
   "source": [
    "# Data Science Tools and Ecosystem"
   ]
  },
  {
   "cell_type": "markdown",
   "id": "6f8f6a25-27a1-4b0d-839f-d1be2bc20629",
   "metadata": {},
   "source": [
    "In this notebook, Data Science Tools and Ecosystem are summarized."
   ]
  },
  {
   "cell_type": "markdown",
   "id": "71c89458-3515-470a-a1da-d0744870d0c5",
   "metadata": {},
   "source": [
    "**Objectives:**\n",
    "\n",
    "- List popular languages for Data Science  \n",
    "- List commonly used libraries in Data Science  \n",
    "- Demonstrate arithmetic expressions in Python  \n",
    "- Create tables using Markdown  \n",
    "- Use code cells to run calculations "
   ]
  },
  {
   "cell_type": "markdown",
   "id": "a70225d8-7071-4629-a71b-82fda6a805c6",
   "metadata": {},
   "source": [
    "Some of the popular languages that Data Scientists use are:\n",
    "1. Python  \n",
    "2. R  \n",
    "3. SQL  \n",
    "4. Julia  "
   ]
  },
  {
   "cell_type": "markdown",
   "id": "3a777a7f-0674-4dc1-b0ed-2761a951faba",
   "metadata": {},
   "source": [
    "Some of the commonly used libraries used by Data Scientists include:\n",
    "1. NumPy  \n",
    "2. Pandas  \n",
    "3. Matplotlib  \n",
    "4. Scikit-learn  "
   ]
  },
  {
   "cell_type": "markdown",
   "id": "1281415c-9820-47f8-92cb-d24e7c829bf1",
   "metadata": {},
   "source": [
    "| Data Science Tools         |\n",
    "|---------------------------|\n",
    "| Jupyter Notebook          |\n",
    "| RStudio                   |\n",
    "| Apache Zeppelin           |"
   ]
  },
  {
   "cell_type": "markdown",
   "id": "c9295cce-541a-4f79-a983-090a3e9e747d",
   "metadata": {},
   "source": [
    "### Below are a few examples of evaluating arithmetic expressions in Python."
   ]
  },
  {
   "cell_type": "markdown",
   "id": "ba06dfe3-7a64-45bd-9e71-da52b4d517ae",
   "metadata": {},
   "source": [
    "Create a code cell to multiply and add numbers"
   ]
  },
  {
   "cell_type": "code",
   "execution_count": 2,
   "id": "2d493d98-a281-4031-9c7a-79529dc3429f",
   "metadata": {},
   "outputs": [
    {
     "data": {
      "text/plain": [
       "17"
      ]
     },
     "execution_count": 2,
     "metadata": {},
     "output_type": "execute_result"
    }
   ],
   "source": [
    "# This is a simple arithmetic expression to multiply then add integers\n",
    "(3 * 4) + 5"
   ]
  },
  {
   "cell_type": "markdown",
   "id": "843bf3b9-79b5-43ce-95df-38e2f2387c86",
   "metadata": {},
   "source": [
    "Create a code cell to convert minutes to hours"
   ]
  },
  {
   "cell_type": "code",
   "execution_count": 3,
   "id": "3fbad29e-4dcd-4399-8f8a-a60090642494",
   "metadata": {},
   "outputs": [
    {
     "data": {
      "text/plain": [
       "3.3333333333333335"
      ]
     },
     "execution_count": 3,
     "metadata": {},
     "output_type": "execute_result"
    }
   ],
   "source": [
    "# This will convert 200 minutes to hours by dividing by 60\n",
    "200 / 60"
   ]
  },
  {
   "cell_type": "markdown",
   "id": "f7c834df-d644-4d83-9c05-912c3b9a5882",
   "metadata": {},
   "source": [
    "## Author  \n",
    "Nakandalage Janeesha Dewmini"
   ]
  },
  {
   "cell_type": "code",
   "execution_count": null,
   "id": "3157dec1-94e8-420c-81ba-7a99fed41bac",
   "metadata": {},
   "outputs": [],
   "source": []
  }
 ],
 "metadata": {
  "kernelspec": {
   "display_name": "Python 3 (ipykernel)",
   "language": "python",
   "name": "python3"
  },
  "language_info": {
   "codemirror_mode": {
    "name": "ipython",
    "version": 3
   },
   "file_extension": ".py",
   "mimetype": "text/x-python",
   "name": "python",
   "nbconvert_exporter": "python",
   "pygments_lexer": "ipython3",
   "version": "3.12.8"
  }
 },
 "nbformat": 4,
 "nbformat_minor": 5
}
